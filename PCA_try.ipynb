{
 "cells": [
  {
   "cell_type": "code",
   "execution_count": 1,
   "metadata": {
    "id": "KC2ua6xZqsQb"
   },
   "outputs": [],
   "source": [
    "import numpy as np\n",
    "import pandas as pd\n",
    "import scipy.io as sio\n",
    "import matplotlib\n",
    "import matplotlib.pyplot as plt\n",
    "from numpy.matlib import repmat\n",
    "from sklearn.preprocessing import normalize\n",
    "\n",
    "%matplotlib inline"
   ]
  },
  {
   "cell_type": "code",
   "execution_count": 2,
   "metadata": {
    "id": "hDrcbTsEq4rJ"
   },
   "outputs": [],
   "source": [
    "def eigsort(V, eigvals):\n",
    "    \n",
    "    # Sort the eigenvalues from largest to smallest. Store the sorted\n",
    "    # eigenvalues in the column vector lambd.\n",
    "    lohival = np.sort(eigvals)\n",
    "    lohiindex = np.argsort(eigvals)\n",
    "    lambd = np.flip(lohival)\n",
    "    index = np.flip(lohiindex)\n",
    "    Dsort = np.diag(lambd)\n",
    "    \n",
    "    # Sort eigenvectors to correspond to the ordered eigenvalues. Store sorted\n",
    "    # eigenvectors as columns of the matrix vsort.\n",
    "    M = np.size(lambd)\n",
    "    Vsort = np.zeros((M, M))\n",
    "    for i in range(M):\n",
    "        Vsort[:,i] = V[:,index[i]]\n",
    "    return Vsort, Dsort\n"
   ]
  },
  {
   "cell_type": "code",
   "execution_count": 3,
   "metadata": {
    "id": "JV_Dc6_zrB1n"
   },
   "outputs": [],
   "source": [
    "df = pd.read_csv(\"encoded_smartphone_data.csv\")"
   ]
  },
  {
   "cell_type": "code",
   "execution_count": 4,
   "metadata": {
    "colab": {
     "base_uri": "https://localhost:8080/",
     "height": 898
    },
    "id": "7ppSd5K0srey",
    "outputId": "a2dd86ac-d7bb-4ae1-ab87-c7c996b57f50"
   },
   "outputs": [
    {
     "data": {
      "text/html": [
       "<div>\n",
       "<style scoped>\n",
       "    .dataframe tbody tr th:only-of-type {\n",
       "        vertical-align: middle;\n",
       "    }\n",
       "\n",
       "    .dataframe tbody tr th {\n",
       "        vertical-align: top;\n",
       "    }\n",
       "\n",
       "    .dataframe thead th {\n",
       "        text-align: right;\n",
       "    }\n",
       "</style>\n",
       "<table border=\"1\" class=\"dataframe\">\n",
       "  <thead>\n",
       "    <tr style=\"text-align: right;\">\n",
       "      <th></th>\n",
       "      <th>Unnamed: 0</th>\n",
       "      <th>Brand</th>\n",
       "      <th>Model</th>\n",
       "      <th>Added</th>\n",
       "      <th>Width</th>\n",
       "      <th>Height</th>\n",
       "      <th>Depth</th>\n",
       "      <th>Volume</th>\n",
       "      <th>Band Count</th>\n",
       "      <th>RAM_TYPE_DDR SDRAM</th>\n",
       "      <th>...</th>\n",
       "      <th>ProtectionFromLiquids_5 Protected against low pressure jets (all directions), limited ingress</th>\n",
       "      <th>ProtectionFromLiquids_6 Protection against powerful jets of water</th>\n",
       "      <th>ProtectionFromLiquids_7 Protected against immersion up to 1m of depth</th>\n",
       "      <th>ProtectionFromLiquids_8 Protected against immersion beyond 1m of depth</th>\n",
       "      <th>ProtectionFromLiquids_9 Protected against high temperature high pressure spray downs</th>\n",
       "      <th>ProtectionFromLiquids_Non-standard protection</th>\n",
       "      <th>ProtectionFromLiquids_Yes</th>\n",
       "      <th>DataIntegrity_Final</th>\n",
       "      <th>DataIntegrity_Incomplete</th>\n",
       "      <th>DataIntegrity_Preliminary</th>\n",
       "    </tr>\n",
       "  </thead>\n",
       "  <tbody>\n",
       "    <tr>\n",
       "      <th>0</th>\n",
       "      <td>0</td>\n",
       "      <td>ZTE</td>\n",
       "      <td>Blade 20 Smart Global TD-LTE 128GB</td>\n",
       "      <td>1/1/2020 12:55</td>\n",
       "      <td>76.6</td>\n",
       "      <td>162.91</td>\n",
       "      <td>8.95</td>\n",
       "      <td>111686.20870</td>\n",
       "      <td>14</td>\n",
       "      <td>0</td>\n",
       "      <td>...</td>\n",
       "      <td>0</td>\n",
       "      <td>0</td>\n",
       "      <td>0</td>\n",
       "      <td>0</td>\n",
       "      <td>0</td>\n",
       "      <td>0</td>\n",
       "      <td>1</td>\n",
       "      <td>0</td>\n",
       "      <td>0</td>\n",
       "      <td>1</td>\n",
       "    </tr>\n",
       "    <tr>\n",
       "      <th>1</th>\n",
       "      <td>1</td>\n",
       "      <td>Samsung</td>\n",
       "      <td>SM-G6200 Galaxy A6s Dual SIM TD-LTE CN 128GB</td>\n",
       "      <td>11/7/2018 22:32</td>\n",
       "      <td>76.5</td>\n",
       "      <td>156.30</td>\n",
       "      <td>8.40</td>\n",
       "      <td>100438.38000</td>\n",
       "      <td>21</td>\n",
       "      <td>0</td>\n",
       "      <td>...</td>\n",
       "      <td>0</td>\n",
       "      <td>0</td>\n",
       "      <td>0</td>\n",
       "      <td>0</td>\n",
       "      <td>0</td>\n",
       "      <td>0</td>\n",
       "      <td>1</td>\n",
       "      <td>0</td>\n",
       "      <td>0</td>\n",
       "      <td>1</td>\n",
       "    </tr>\n",
       "    <tr>\n",
       "      <th>2</th>\n",
       "      <td>2</td>\n",
       "      <td>LG</td>\n",
       "      <td>LMV450VMB V50 ThinQ 5G TD-LTE US V450VMB</td>\n",
       "      <td>3/5/2019 23:31</td>\n",
       "      <td>76.1</td>\n",
       "      <td>159.20</td>\n",
       "      <td>8.30</td>\n",
       "      <td>100555.49600</td>\n",
       "      <td>20</td>\n",
       "      <td>0</td>\n",
       "      <td>...</td>\n",
       "      <td>0</td>\n",
       "      <td>0</td>\n",
       "      <td>0</td>\n",
       "      <td>1</td>\n",
       "      <td>0</td>\n",
       "      <td>0</td>\n",
       "      <td>0</td>\n",
       "      <td>1</td>\n",
       "      <td>0</td>\n",
       "      <td>0</td>\n",
       "    </tr>\n",
       "    <tr>\n",
       "      <th>3</th>\n",
       "      <td>3</td>\n",
       "      <td>Huawei</td>\n",
       "      <td>Y5 Lite 2018 Dual SIM LTE LATAM CAG-LX3 / CAG-L23</td>\n",
       "      <td>5/10/2018 20:11</td>\n",
       "      <td>73.7</td>\n",
       "      <td>145.10</td>\n",
       "      <td>9.45</td>\n",
       "      <td>101057.07150</td>\n",
       "      <td>12</td>\n",
       "      <td>0</td>\n",
       "      <td>...</td>\n",
       "      <td>0</td>\n",
       "      <td>0</td>\n",
       "      <td>0</td>\n",
       "      <td>0</td>\n",
       "      <td>0</td>\n",
       "      <td>0</td>\n",
       "      <td>1</td>\n",
       "      <td>0</td>\n",
       "      <td>0</td>\n",
       "      <td>1</td>\n",
       "    </tr>\n",
       "    <tr>\n",
       "      <th>4</th>\n",
       "      <td>4</td>\n",
       "      <td>Nokia</td>\n",
       "      <td>4.2 Dual SIM TD-LTE AM 32GB</td>\n",
       "      <td>8/14/2019 15:07</td>\n",
       "      <td>71.3</td>\n",
       "      <td>148.95</td>\n",
       "      <td>8.39</td>\n",
       "      <td>89102.93265</td>\n",
       "      <td>21</td>\n",
       "      <td>0</td>\n",
       "      <td>...</td>\n",
       "      <td>0</td>\n",
       "      <td>0</td>\n",
       "      <td>0</td>\n",
       "      <td>0</td>\n",
       "      <td>0</td>\n",
       "      <td>0</td>\n",
       "      <td>1</td>\n",
       "      <td>1</td>\n",
       "      <td>0</td>\n",
       "      <td>0</td>\n",
       "    </tr>\n",
       "    <tr>\n",
       "      <th>...</th>\n",
       "      <td>...</td>\n",
       "      <td>...</td>\n",
       "      <td>...</td>\n",
       "      <td>...</td>\n",
       "      <td>...</td>\n",
       "      <td>...</td>\n",
       "      <td>...</td>\n",
       "      <td>...</td>\n",
       "      <td>...</td>\n",
       "      <td>...</td>\n",
       "      <td>...</td>\n",
       "      <td>...</td>\n",
       "      <td>...</td>\n",
       "      <td>...</td>\n",
       "      <td>...</td>\n",
       "      <td>...</td>\n",
       "      <td>...</td>\n",
       "      <td>...</td>\n",
       "      <td>...</td>\n",
       "      <td>...</td>\n",
       "      <td>...</td>\n",
       "    </tr>\n",
       "    <tr>\n",
       "      <th>13564</th>\n",
       "      <td>13938</td>\n",
       "      <td>Samsung</td>\n",
       "      <td>SGH-i780</td>\n",
       "      <td>9/22/2007 23:57</td>\n",
       "      <td>61.3</td>\n",
       "      <td>115.90</td>\n",
       "      <td>12.90</td>\n",
       "      <td>91650.24300</td>\n",
       "      <td>4</td>\n",
       "      <td>0</td>\n",
       "      <td>...</td>\n",
       "      <td>0</td>\n",
       "      <td>0</td>\n",
       "      <td>0</td>\n",
       "      <td>0</td>\n",
       "      <td>0</td>\n",
       "      <td>0</td>\n",
       "      <td>1</td>\n",
       "      <td>1</td>\n",
       "      <td>0</td>\n",
       "      <td>0</td>\n",
       "    </tr>\n",
       "    <tr>\n",
       "      <th>13565</th>\n",
       "      <td>13939</td>\n",
       "      <td>Vodafone</td>\n",
       "      <td>VPA Compact GPS</td>\n",
       "      <td>1/31/2007 13:51</td>\n",
       "      <td>58.2</td>\n",
       "      <td>108.00</td>\n",
       "      <td>18.40</td>\n",
       "      <td>115655.04000</td>\n",
       "      <td>7</td>\n",
       "      <td>0</td>\n",
       "      <td>...</td>\n",
       "      <td>0</td>\n",
       "      <td>0</td>\n",
       "      <td>0</td>\n",
       "      <td>0</td>\n",
       "      <td>0</td>\n",
       "      <td>0</td>\n",
       "      <td>1</td>\n",
       "      <td>1</td>\n",
       "      <td>0</td>\n",
       "      <td>0</td>\n",
       "    </tr>\n",
       "    <tr>\n",
       "      <th>13566</th>\n",
       "      <td>13940</td>\n",
       "      <td>E-TEN</td>\n",
       "      <td>InfoTouch P603</td>\n",
       "      <td>4/3/2005 18:03</td>\n",
       "      <td>82.0</td>\n",
       "      <td>137.40</td>\n",
       "      <td>18.40</td>\n",
       "      <td>207309.12000</td>\n",
       "      <td>3</td>\n",
       "      <td>0</td>\n",
       "      <td>...</td>\n",
       "      <td>0</td>\n",
       "      <td>0</td>\n",
       "      <td>0</td>\n",
       "      <td>0</td>\n",
       "      <td>0</td>\n",
       "      <td>0</td>\n",
       "      <td>1</td>\n",
       "      <td>1</td>\n",
       "      <td>0</td>\n",
       "      <td>0</td>\n",
       "    </tr>\n",
       "    <tr>\n",
       "      <th>13567</th>\n",
       "      <td>13941</td>\n",
       "      <td>Airis</td>\n",
       "      <td>T482</td>\n",
       "      <td>8/15/2008 18:05</td>\n",
       "      <td>62.0</td>\n",
       "      <td>125.00</td>\n",
       "      <td>14.00</td>\n",
       "      <td>108500.00000</td>\n",
       "      <td>4</td>\n",
       "      <td>0</td>\n",
       "      <td>...</td>\n",
       "      <td>0</td>\n",
       "      <td>0</td>\n",
       "      <td>0</td>\n",
       "      <td>0</td>\n",
       "      <td>0</td>\n",
       "      <td>0</td>\n",
       "      <td>1</td>\n",
       "      <td>1</td>\n",
       "      <td>0</td>\n",
       "      <td>0</td>\n",
       "    </tr>\n",
       "    <tr>\n",
       "      <th>13568</th>\n",
       "      <td>13942</td>\n",
       "      <td>Nokia</td>\n",
       "      <td>E62</td>\n",
       "      <td>11/26/2007 0:05</td>\n",
       "      <td>69.7</td>\n",
       "      <td>117.00</td>\n",
       "      <td>18.00</td>\n",
       "      <td>146788.20000</td>\n",
       "      <td>4</td>\n",
       "      <td>0</td>\n",
       "      <td>...</td>\n",
       "      <td>0</td>\n",
       "      <td>0</td>\n",
       "      <td>0</td>\n",
       "      <td>0</td>\n",
       "      <td>0</td>\n",
       "      <td>0</td>\n",
       "      <td>1</td>\n",
       "      <td>1</td>\n",
       "      <td>0</td>\n",
       "      <td>0</td>\n",
       "    </tr>\n",
       "  </tbody>\n",
       "</table>\n",
       "<p>13569 rows × 153 columns</p>\n",
       "</div>"
      ],
      "text/plain": [
       "       Unnamed: 0     Brand  \\\n",
       "0               0       ZTE   \n",
       "1               1   Samsung   \n",
       "2               2        LG   \n",
       "3               3    Huawei   \n",
       "4               4     Nokia   \n",
       "...           ...       ...   \n",
       "13564       13938   Samsung   \n",
       "13565       13939  Vodafone   \n",
       "13566       13940     E-TEN   \n",
       "13567       13941     Airis   \n",
       "13568       13942     Nokia   \n",
       "\n",
       "                                                   Model            Added  \\\n",
       "0                     Blade 20 Smart Global TD-LTE 128GB   1/1/2020 12:55   \n",
       "1           SM-G6200 Galaxy A6s Dual SIM TD-LTE CN 128GB  11/7/2018 22:32   \n",
       "2               LMV450VMB V50 ThinQ 5G TD-LTE US V450VMB   3/5/2019 23:31   \n",
       "3      Y5 Lite 2018 Dual SIM LTE LATAM CAG-LX3 / CAG-L23  5/10/2018 20:11   \n",
       "4                            4.2 Dual SIM TD-LTE AM 32GB  8/14/2019 15:07   \n",
       "...                                                  ...              ...   \n",
       "13564                                           SGH-i780  9/22/2007 23:57   \n",
       "13565                                    VPA Compact GPS  1/31/2007 13:51   \n",
       "13566                                     InfoTouch P603   4/3/2005 18:03   \n",
       "13567                                               T482  8/15/2008 18:05   \n",
       "13568                                                E62  11/26/2007 0:05   \n",
       "\n",
       "       Width  Height  Depth        Volume  Band Count  RAM_TYPE_DDR SDRAM  \\\n",
       "0       76.6  162.91   8.95  111686.20870          14                   0   \n",
       "1       76.5  156.30   8.40  100438.38000          21                   0   \n",
       "2       76.1  159.20   8.30  100555.49600          20                   0   \n",
       "3       73.7  145.10   9.45  101057.07150          12                   0   \n",
       "4       71.3  148.95   8.39   89102.93265          21                   0   \n",
       "...      ...     ...    ...           ...         ...                 ...   \n",
       "13564   61.3  115.90  12.90   91650.24300           4                   0   \n",
       "13565   58.2  108.00  18.40  115655.04000           7                   0   \n",
       "13566   82.0  137.40  18.40  207309.12000           3                   0   \n",
       "13567   62.0  125.00  14.00  108500.00000           4                   0   \n",
       "13568   69.7  117.00  18.00  146788.20000           4                   0   \n",
       "\n",
       "       ...  \\\n",
       "0      ...   \n",
       "1      ...   \n",
       "2      ...   \n",
       "3      ...   \n",
       "4      ...   \n",
       "...    ...   \n",
       "13564  ...   \n",
       "13565  ...   \n",
       "13566  ...   \n",
       "13567  ...   \n",
       "13568  ...   \n",
       "\n",
       "       ProtectionFromLiquids_5 Protected against low pressure jets (all directions), limited ingress  \\\n",
       "0                                                      0                                               \n",
       "1                                                      0                                               \n",
       "2                                                      0                                               \n",
       "3                                                      0                                               \n",
       "4                                                      0                                               \n",
       "...                                                  ...                                               \n",
       "13564                                                  0                                               \n",
       "13565                                                  0                                               \n",
       "13566                                                  0                                               \n",
       "13567                                                  0                                               \n",
       "13568                                                  0                                               \n",
       "\n",
       "       ProtectionFromLiquids_6 Protection against powerful jets of water  \\\n",
       "0                                                      0                   \n",
       "1                                                      0                   \n",
       "2                                                      0                   \n",
       "3                                                      0                   \n",
       "4                                                      0                   \n",
       "...                                                  ...                   \n",
       "13564                                                  0                   \n",
       "13565                                                  0                   \n",
       "13566                                                  0                   \n",
       "13567                                                  0                   \n",
       "13568                                                  0                   \n",
       "\n",
       "       ProtectionFromLiquids_7 Protected against immersion up to 1m of depth  \\\n",
       "0                                                      0                       \n",
       "1                                                      0                       \n",
       "2                                                      0                       \n",
       "3                                                      0                       \n",
       "4                                                      0                       \n",
       "...                                                  ...                       \n",
       "13564                                                  0                       \n",
       "13565                                                  0                       \n",
       "13566                                                  0                       \n",
       "13567                                                  0                       \n",
       "13568                                                  0                       \n",
       "\n",
       "       ProtectionFromLiquids_8 Protected against immersion beyond 1m of depth  \\\n",
       "0                                                      0                        \n",
       "1                                                      0                        \n",
       "2                                                      1                        \n",
       "3                                                      0                        \n",
       "4                                                      0                        \n",
       "...                                                  ...                        \n",
       "13564                                                  0                        \n",
       "13565                                                  0                        \n",
       "13566                                                  0                        \n",
       "13567                                                  0                        \n",
       "13568                                                  0                        \n",
       "\n",
       "       ProtectionFromLiquids_9 Protected against high temperature high pressure spray downs  \\\n",
       "0                                                      0                                      \n",
       "1                                                      0                                      \n",
       "2                                                      0                                      \n",
       "3                                                      0                                      \n",
       "4                                                      0                                      \n",
       "...                                                  ...                                      \n",
       "13564                                                  0                                      \n",
       "13565                                                  0                                      \n",
       "13566                                                  0                                      \n",
       "13567                                                  0                                      \n",
       "13568                                                  0                                      \n",
       "\n",
       "       ProtectionFromLiquids_Non-standard protection  \\\n",
       "0                                                  0   \n",
       "1                                                  0   \n",
       "2                                                  0   \n",
       "3                                                  0   \n",
       "4                                                  0   \n",
       "...                                              ...   \n",
       "13564                                              0   \n",
       "13565                                              0   \n",
       "13566                                              0   \n",
       "13567                                              0   \n",
       "13568                                              0   \n",
       "\n",
       "       ProtectionFromLiquids_Yes  DataIntegrity_Final  \\\n",
       "0                              1                    0   \n",
       "1                              1                    0   \n",
       "2                              0                    1   \n",
       "3                              1                    0   \n",
       "4                              1                    1   \n",
       "...                          ...                  ...   \n",
       "13564                          1                    1   \n",
       "13565                          1                    1   \n",
       "13566                          1                    1   \n",
       "13567                          1                    1   \n",
       "13568                          1                    1   \n",
       "\n",
       "       DataIntegrity_Incomplete  DataIntegrity_Preliminary  \n",
       "0                             0                          1  \n",
       "1                             0                          1  \n",
       "2                             0                          0  \n",
       "3                             0                          1  \n",
       "4                             0                          0  \n",
       "...                         ...                        ...  \n",
       "13564                         0                          0  \n",
       "13565                         0                          0  \n",
       "13566                         0                          0  \n",
       "13567                         0                          0  \n",
       "13568                         0                          0  \n",
       "\n",
       "[13569 rows x 153 columns]"
      ]
     },
     "execution_count": 4,
     "metadata": {},
     "output_type": "execute_result"
    }
   ],
   "source": [
    "df"
   ]
  },
  {
   "cell_type": "code",
   "execution_count": 5,
   "metadata": {
    "colab": {
     "base_uri": "https://localhost:8080/"
    },
    "id": "PDqq8frRs23A",
    "outputId": "d6e3dedd-d9f9-4d16-f5c0-d2a08e91b306"
   },
   "outputs": [
    {
     "data": {
      "text/plain": [
       "array([0.00672825, 0.00673012, 0.00673019, ..., 0.00671979, 0.0067252 ,\n",
       "       0.00672177])"
      ]
     },
     "execution_count": 5,
     "metadata": {},
     "output_type": "execute_result"
    }
   ],
   "source": [
    "df = df.drop(labels = ['Unnamed: 0', 'Brand', 'Model', 'Added'], axis = 1)\n",
    "df = normalize(df)\n",
    "sample_mean = np.mean(df, axis = 1)\n",
    "sample_mean = sample_mean.T\n",
    "sample_mean"
   ]
  },
  {
   "cell_type": "code",
   "execution_count": 6,
   "metadata": {
    "colab": {
     "base_uri": "https://localhost:8080/"
    },
    "id": "LmBKi2pxVEqb",
    "outputId": "aee8e77e-1d69-42d7-ba9e-9e723f5024de"
   },
   "outputs": [
    {
     "data": {
      "text/plain": [
       "0        0.006728\n",
       "1        0.006730\n",
       "2        0.006730\n",
       "3        0.006729\n",
       "4        0.006732\n",
       "           ...   \n",
       "13564    0.006727\n",
       "13565    0.006724\n",
       "13566    0.006720\n",
       "13567    0.006725\n",
       "13568    0.006722\n",
       "Length: 13569, dtype: float64"
      ]
     },
     "execution_count": 6,
     "metadata": {},
     "output_type": "execute_result"
    }
   ],
   "source": [
    "df_series = pd.Series(sample_mean)\n",
    "df_series"
   ]
  },
  {
   "cell_type": "code",
   "execution_count": 7,
   "metadata": {
    "colab": {
     "base_uri": "https://localhost:8080/",
     "height": 419
    },
    "id": "awLeHqvPVOUP",
    "outputId": "f2b2737e-6d7c-4d8d-a30f-3246b00209fe"
   },
   "outputs": [
    {
     "data": {
      "text/html": [
       "<div>\n",
       "<style scoped>\n",
       "    .dataframe tbody tr th:only-of-type {\n",
       "        vertical-align: middle;\n",
       "    }\n",
       "\n",
       "    .dataframe tbody tr th {\n",
       "        vertical-align: top;\n",
       "    }\n",
       "\n",
       "    .dataframe thead th {\n",
       "        text-align: right;\n",
       "    }\n",
       "</style>\n",
       "<table border=\"1\" class=\"dataframe\">\n",
       "  <thead>\n",
       "    <tr style=\"text-align: right;\">\n",
       "      <th></th>\n",
       "      <th>0</th>\n",
       "    </tr>\n",
       "  </thead>\n",
       "  <tbody>\n",
       "    <tr>\n",
       "      <th>0</th>\n",
       "      <td>0.006728</td>\n",
       "    </tr>\n",
       "    <tr>\n",
       "      <th>1</th>\n",
       "      <td>0.006730</td>\n",
       "    </tr>\n",
       "    <tr>\n",
       "      <th>2</th>\n",
       "      <td>0.006730</td>\n",
       "    </tr>\n",
       "    <tr>\n",
       "      <th>3</th>\n",
       "      <td>0.006729</td>\n",
       "    </tr>\n",
       "    <tr>\n",
       "      <th>4</th>\n",
       "      <td>0.006732</td>\n",
       "    </tr>\n",
       "    <tr>\n",
       "      <th>...</th>\n",
       "      <td>...</td>\n",
       "    </tr>\n",
       "    <tr>\n",
       "      <th>13564</th>\n",
       "      <td>0.006727</td>\n",
       "    </tr>\n",
       "    <tr>\n",
       "      <th>13565</th>\n",
       "      <td>0.006724</td>\n",
       "    </tr>\n",
       "    <tr>\n",
       "      <th>13566</th>\n",
       "      <td>0.006720</td>\n",
       "    </tr>\n",
       "    <tr>\n",
       "      <th>13567</th>\n",
       "      <td>0.006725</td>\n",
       "    </tr>\n",
       "    <tr>\n",
       "      <th>13568</th>\n",
       "      <td>0.006722</td>\n",
       "    </tr>\n",
       "  </tbody>\n",
       "</table>\n",
       "<p>13569 rows × 1 columns</p>\n",
       "</div>"
      ],
      "text/plain": [
       "              0\n",
       "0      0.006728\n",
       "1      0.006730\n",
       "2      0.006730\n",
       "3      0.006729\n",
       "4      0.006732\n",
       "...         ...\n",
       "13564  0.006727\n",
       "13565  0.006724\n",
       "13566  0.006720\n",
       "13567  0.006725\n",
       "13568  0.006722\n",
       "\n",
       "[13569 rows x 1 columns]"
      ]
     },
     "execution_count": 7,
     "metadata": {},
     "output_type": "execute_result"
    }
   ],
   "source": [
    "reshape_mean = pd.DataFrame(df_series)\n",
    "reshape_mean"
   ]
  },
  {
   "cell_type": "code",
   "execution_count": 8,
   "metadata": {
    "id": "w8E0oveSqNKN"
   },
   "outputs": [
    {
     "name": "stderr",
     "output_type": "stream",
     "text": [
      "/opt/conda/lib/python3.7/site-packages/ipykernel_launcher.py:1: RuntimeWarning: Degrees of freedom <= 0 for slice\n",
      "  \"\"\"Entry point for launching an IPython kernel.\n",
      "/opt/conda/lib/python3.7/site-packages/numpy/lib/function_base.py:2455: RuntimeWarning: divide by zero encountered in true_divide\n",
      "  c *= np.true_divide(1, fact)\n",
      "/opt/conda/lib/python3.7/site-packages/numpy/lib/function_base.py:2455: RuntimeWarning: invalid value encountered in multiply\n",
      "  c *= np.true_divide(1, fact)\n"
     ]
    }
   ],
   "source": [
    "covariance_matrix = np.cov(reshape_mean)"
   ]
  },
  {
   "cell_type": "code",
   "execution_count": 10,
   "metadata": {},
   "outputs": [
    {
     "data": {
      "text/plain": [
       "(13569, 1)"
      ]
     },
     "execution_count": 10,
     "metadata": {},
     "output_type": "execute_result"
    }
   ],
   "source": [
    "df = np.array(df)\n",
    "mean = np.array(reshape_mean)\n",
    "#array = df - mean\n",
    "N = np.shape(df[1])\n",
    "mean.shape"
   ]
  },
  {
   "cell_type": "code",
   "execution_count": 12,
   "metadata": {},
   "outputs": [
    {
     "data": {
      "text/plain": [
       "array([[-0.0060424 , -0.00526962, -0.00664812, ..., -0.00672825,\n",
       "        -0.00672825, -0.0067193 ],\n",
       "       [-0.00596846, -0.00517395, -0.00664649, ..., -0.00673012,\n",
       "        -0.00673012, -0.00672017],\n",
       "       [-0.0059734 , -0.00514699, -0.00664765, ..., -0.00672025,\n",
       "        -0.00673019, -0.00673019],\n",
       "       ...,\n",
       "       [-0.00632424, -0.00605701, -0.00663103, ..., -0.00671496,\n",
       "        -0.00671979, -0.00671979],\n",
       "       [-0.00615377, -0.00557312, -0.00659617, ..., -0.00671598,\n",
       "        -0.0067252 , -0.0067252 ],\n",
       "       [-0.00624694, -0.00592471, -0.00659915, ..., -0.00671496,\n",
       "        -0.00672177, -0.00672177]])"
      ]
     },
     "execution_count": 12,
     "metadata": {},
     "output_type": "execute_result"
    }
   ],
   "source": [
    "Z_df = df - mean\n",
    "Z_df"
   ]
  },
  {
   "cell_type": "code",
   "execution_count": 14,
   "metadata": {},
   "outputs": [
    {
     "data": {
      "text/plain": [
       "array([[0.00325165, 0.00284353, 0.0036043 , ..., 0.00365848, 0.0036608 ,\n",
       "        0.00365757],\n",
       "       [0.00284353, 0.00249067, 0.00314955, ..., 0.00319702, 0.00319904,\n",
       "        0.00319624],\n",
       "       [0.0036043 , 0.00314955, 0.00399786, ..., 0.00405779, 0.00406037,\n",
       "        0.00405676],\n",
       "       ...,\n",
       "       [0.00365848, 0.00319702, 0.00405779, ..., 0.0041187 , 0.00412132,\n",
       "        0.00411765],\n",
       "       [0.0036608 , 0.00319904, 0.00406037, ..., 0.00412132, 0.00412393,\n",
       "        0.00412027],\n",
       "       [0.00365757, 0.00319624, 0.00405676, ..., 0.00411765, 0.00412027,\n",
       "        0.00411661]])"
      ]
     },
     "execution_count": 14,
     "metadata": {},
     "output_type": "execute_result"
    }
   ],
   "source": [
    "covmatrix=np.dot(Z_df.T,Z_df)/N\n",
    "covmatrix"
   ]
  },
  {
   "cell_type": "code",
   "execution_count": 15,
   "metadata": {},
   "outputs": [
    {
     "data": {
      "text/plain": [
       "(149, 149)"
      ]
     },
     "execution_count": 15,
     "metadata": {},
     "output_type": "execute_result"
    }
   ],
   "source": [
    "covmatrix.shape"
   ]
  },
  {
   "cell_type": "code",
   "execution_count": 16,
   "metadata": {},
   "outputs": [],
   "source": [
    "eig_value, eig_vect=np.linalg.eig(covmatrix)"
   ]
  },
  {
   "cell_type": "code",
   "execution_count": 17,
   "metadata": {},
   "outputs": [],
   "source": [
    "V = np.linalg.eig(covmatrix)"
   ]
  },
  {
   "cell_type": "code",
   "execution_count": 18,
   "metadata": {},
   "outputs": [
    {
     "name": "stderr",
     "output_type": "stream",
     "text": [
      "/opt/conda/lib/python3.7/site-packages/ipykernel_launcher.py:16: ComplexWarning: Casting complex values to real discards the imaginary part\n",
      "  app.launch_new_instance()\n"
     ]
    }
   ],
   "source": [
    "V_old = eig_vect\n",
    "eigvals = eig_value\n",
    "V_sort, D_sort = eigsort(V_old, eigvals)"
   ]
  },
  {
   "cell_type": "code",
   "execution_count": 19,
   "metadata": {},
   "outputs": [],
   "source": [
    "C = V_sort @ Z_df.T"
   ]
  },
  {
   "cell_type": "code",
   "execution_count": 20,
   "metadata": {},
   "outputs": [
    {
     "data": {
      "text/plain": [
       "(149, 13569)"
      ]
     },
     "execution_count": 20,
     "metadata": {},
     "output_type": "execute_result"
    }
   ],
   "source": [
    "C.shape"
   ]
  },
  {
   "cell_type": "code",
   "execution_count": 21,
   "metadata": {},
   "outputs": [
    {
     "data": {
      "text/plain": [
       "(13569,)"
      ]
     },
     "execution_count": 21,
     "metadata": {},
     "output_type": "execute_result"
    }
   ],
   "source": [
    "C[1,:].shape"
   ]
  },
  {
   "cell_type": "code",
   "execution_count": 22,
   "metadata": {},
   "outputs": [
    {
     "data": {
      "text/plain": [
       "(149,)"
      ]
     },
     "execution_count": 22,
     "metadata": {},
     "output_type": "execute_result"
    }
   ],
   "source": [
    "C[:,1].shape"
   ]
  },
  {
   "cell_type": "code",
   "execution_count": 24,
   "metadata": {},
   "outputs": [
    {
     "data": {
      "image/png": "[encoded data removed]",
      "text/plain": [
       "<Figure size 432x288 with 1 Axes>"
      ]
     },
     "metadata": {
      "needs_background": "light"
     },
     "output_type": "display_data"
    }
   ],
   "source": [
    "plt.scatter(C[0,:], C[1,:])\n",
    "plt.title('After PCA Transformation')\n",
    "plt.show()"
   ]
  },
  {
   "cell_type": "code",
   "execution_count": 25,
   "metadata": {},
   "outputs": [
    {
     "data": {
      "text/plain": [
       "<mpl_toolkits.mplot3d.art3d.Path3DCollection at 0x7f2f130d5550>"
      ]
     },
     "execution_count": 25,
     "metadata": {},
     "output_type": "execute_result"
    },
    {
     "data": {
      "image/png": "[encoded data removed]",
      "text/plain": [
       "<Figure size 432x288 with 1 Axes>"
      ]
     },
     "metadata": {
      "needs_background": "light"
     },
     "output_type": "display_data"
    }
   ],
   "source": [
    "fig = plt.figure()\n",
    "ax = plt.axes(projection = '3d')\n",
    "xdata = C[:,0]\n",
    "ydata = C[:,1]\n",
    "zdata = C[:,2]\n",
    "ax.scatter3D(xdata, ydata, zdata, cmap='Greens')"
   ]
  },
  {
   "cell_type": "code",
   "execution_count": null,
   "metadata": {},
   "outputs": [],
   "source": []
  }
 ],
 "metadata": {
  "colab": {
   "name": "Untitled0.ipynb",
   "provenance": []
  },
  "kernelspec": {
   "display_name": "Python 3",
   "language": "python",
   "name": "python3"
  },
  "language_info": {
   "codemirror_mode": {
    "name": "ipython",
    "version": 3
   },
   "file_extension": ".py",
   "mimetype": "text/x-python",
   "name": "python",
   "nbconvert_exporter": "python",
   "pygments_lexer": "ipython3",
   "version": "3.7.6"
  }
 },
 "nbformat": 4,
 "nbformat_minor": 1
}
