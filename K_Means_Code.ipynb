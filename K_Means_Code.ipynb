{
 "cells": [
  {
   "cell_type": "code",
   "execution_count": 1,
   "metadata": {},
   "outputs": [],
   "source": [
    "import numpy as np\n",
    "import matplotlib\n",
    "import matplotlib.pyplot as plt\n",
    "%matplotlib inline\n",
    "import pandas as pd\n",
    "import math"
   ]
  },
  {
   "cell_type": "code",
   "execution_count": 2,
   "metadata": {},
   "outputs": [],
   "source": [
    "def plotCurrent(X, Rnk, Kmus):\n",
    "    N, D = np.shape(X)\n",
    "    K = np.shape(Kmus)[0]\n",
    "\n",
    "    InitColorMat = np.matrix([[1, 0, 0], \n",
    "                              [0, 1, 0],   \n",
    "                              [0, 0, 1],\n",
    "                              [0, 0, 0],\n",
    "                              [1, 1, 0], \n",
    "                              [1, 0, 1], \n",
    "                              [0, 1, 1]])\n",
    "\n",
    "    KColorMat = InitColorMat[0:K]\n",
    "    colorVec = Rnk.dot(KColorMat)\n",
    "    muColorVec = np.eye(K).dot(KColorMat)\n",
    "\n",
    "    plt.scatter(X[:,0], X[:,1], edgecolors=colorVec, marker='o', facecolors='none', alpha=0.3)\n",
    "    plt.scatter(Kmus[:,0], Kmus[:,1], c=muColorVec, marker='D', s=50);"
   ]
  },
  {
   "cell_type": "code",
   "execution_count": 3,
   "metadata": {},
   "outputs": [],
   "source": [
    "def calcSqDistances(X, Kmus):\n",
    "    sqDmat = []\n",
    "    for mean in Kmus:\n",
    "        norm_array = []\n",
    "        for point in X:\n",
    "            norm_array.append(np.linalg.norm(point - mean))\n",
    "        sqDmat.append(norm_array)\n",
    "    return np.array(sqDmat).T"
   ]
  },
  {
   "cell_type": "code",
   "execution_count": 4,
   "metadata": {},
   "outputs": [],
   "source": [
    "def determineRnk(sqDmat):\n",
    "    mean_rank = []\n",
    "    for i in sqDmat:\n",
    "        cluster_val = []\n",
    "        for j in i: \n",
    "            closest = i.min()\n",
    "            if j == closest:\n",
    "                cluster_val.append(1)\n",
    "            else: \n",
    "                cluster_val.append(0)\n",
    "        mean_rank.append(cluster_val)\n",
    "    return np.array(mean_rank)"
   ]
  },
  {
   "cell_type": "code",
   "execution_count": 5,
   "metadata": {},
   "outputs": [],
   "source": [
    "def recalcMus(X, Rnk):\n",
    "    # Fill this\n",
    "    N = np.shape(X)[0]#13569\n",
    "    k = np.shape(Rnk)[1] #2\n",
    "    \n",
    "    \n",
    "    Kmus = np.empty(shape=(k,np.shape(X)[1]),dtype='object')\n",
    "    \n",
    "    for i in range(k):#0-1\n",
    "        cluster_sum = np.zeros(np.shape(X)[1])\n",
    "        count = 0\n",
    "        \n",
    "        for j in range(N): #from 0-13568\n",
    "            cluster_sum = cluster_sum + Rnk[j][i]*X[j]\n",
    "            count += Rnk[j][i]\n",
    "        \n",
    "        Kmus[i] = cluster_sum/count ##gives the actual means \n",
    "        #Kmus.insert(Kmus, i, (cluster_sum/count))\n",
    "        #np.put(Kmus,i, (cluster_sum/count)) ### this is producing the error \n",
    "    \n",
    "    return Kmus"
   ]
  },
  {
   "cell_type": "code",
   "execution_count": 6,
   "metadata": {},
   "outputs": [],
   "source": [
    "def wcss(Kmus, K, X, Rnk):\n",
    "    sum_ = 0\n",
    "    sum_k = 0\n",
    "    for k in range(K):\n",
    "        sum_ += sum_k\n",
    "        sum_k = np.zeros(np.shape(X)[1])\n",
    "        count_k = 0\n",
    "        for j in range(np.shape(X)[0]):#loop through 13569 times \n",
    "            if(Rnk[j][k] == 1): #since the indices in Rnk correspond to the value in X take the k value of the jth rank\n",
    "                sum_k = sum_k + (X[j] - Kmus[k])**2 #take the value at index j subtract by the corresponding mu\n",
    "                count_k += 1\n",
    "            else: \n",
    "                continue\n",
    "        #print(\"Mean\",k, \"WCSS: \", math.sqrt(np.sum(sum_k))/count_k)\n",
    "        sum_k = math.sqrt(np.sum(sum_k))/count_k\n",
    "        \n",
    "    return sum_"
   ]
  },
  {
   "cell_type": "code",
   "execution_count": 7,
   "metadata": {},
   "outputs": [],
   "source": [
    "def runKMeans(K, csv_filepath):\n",
    "    # Load cleaned data in\n",
    "    data = pd.read_csv(csv_filepath)\n",
    "    \n",
    "    ##break the columns into lists of their own and combine then into one array\n",
    "    #x_col = data[X_col]\n",
    "    #y_col = data[Y_col]\n",
    "    #dimensions = []\n",
    "    \n",
    "    #for num in range(0,len(data[X_col])):\n",
    "        #dimensions.append([x_col[num], y_col[num]])\n",
    "    \n",
    "    #dimensions = np.array(dimensions)\n",
    "    \n",
    "    #X = dimensions \n",
    "    X = data.drop(['Unnamed: 0', 'Brand', 'Model', 'Added'], axis = 1)\n",
    "    X = np.array(X)\n",
    "    \n",
    "    # Determine and store data set information; N is the number of objects, D is the number of attributes\n",
    "    N,D = X.shape\n",
    "\n",
    "    # Allocate space for the K mu vectors\n",
    "    Kmus = np.zeros((K, D))\n",
    "    \n",
    "    # Initialize cluster centers by randomly picking points from the data\n",
    "    rndinds = np.random.permutation(N)\n",
    "    Kmus = X[rndinds[:K]];\n",
    "    \n",
    "    # Specify the maximum number of iterations to allow\n",
    "    maxiters = 1000;\n",
    "\n",
    "    for iter in range(maxiters):\n",
    "        # Assign each data vector to closest mu vector \n",
    "        # Do this by first calculating a squared distance matrix where the n,k entry\n",
    "        # contains the squared distance from the nth data vector to the kth mu vector\n",
    "\n",
    "        # sqDmat will be an N-by-K matrix with the n,k entry as specfied above\n",
    "        \n",
    "        sqDmat = calcSqDistances(X, Kmus);\n",
    "        \n",
    "        # given the matrix of squared distances, determine the closest cluster center for each data vector \n",
    "\n",
    "        # R is the \"responsibility\" matrix\n",
    "        # R will be an N-by-K matrix of binary values whose n,k entry is set as \n",
    "        # Specifically, the n,k entry is 1 if point n is closest to cluster k,\n",
    "        # and is 0 otherwise\n",
    "        Rnk = determineRnk(sqDmat)\n",
    "        \n",
    "        KmusOld = Kmus\n",
    "        #plotCurrent(X, Rnk, Kmus)\n",
    "        #plt.show()\n",
    "\n",
    "        # Recalculate mu values based on cluster assignments\n",
    "        Kmus = recalcMus(X, Rnk)\n",
    "\n",
    "        # If old cluster means are relatively close to the new cluster means,then break.\n",
    "        if sum(abs(KmusOld.flatten() - Kmus.flatten())) < 1e-6:\n",
    "            break\n",
    "\n",
    "    #plotCurrent(X,Rnk,Kmus)\n",
    "    \n",
    "    rnk = Rnk.tolist()\n",
    "    data['Rank'] = rnk\n",
    "    \n",
    "    data\n",
    "    return Kmus,X, Rnk #data"
   ]
  },
  {
   "cell_type": "code",
   "execution_count": 8,
   "metadata": {},
   "outputs": [],
   "source": [
    "def plot(Range,csv_filepath):\n",
    "    for i in range(2,Range + 1):\n",
    "        Kmus,X,Rnk = runKMeans(i,csv_filepath)\n",
    "        WCSS = wcss(Kmus,i, X, Rnk)\n",
    "        plt.plot(i, WCSS, marker='D')\n",
    "    plt.xlabel(\"Number of Clusters\")\n",
    "    plt.ylabel(\"Within groups sum of squares\")"
   ]
  },
  {
   "cell_type": "code",
   "execution_count": 9,
   "metadata": {},
   "outputs": [
    {
     "data": {
      "image/png": "[encoded data removed]",
      "text/plain": [
       "<Figure size 432x288 with 1 Axes>"
      ]
     },
     "metadata": {
      "needs_background": "light"
     },
     "output_type": "display_data"
    }
   ],
   "source": [
    "plot(10,'encoded_smartphone_data.csv')"
   ]
  },
  {
   "cell_type": "code",
   "execution_count": 10,
   "metadata": {},
   "outputs": [
    {
     "data": {
      "image/png": "[encoded data removed]",
      "text/plain": [
       "<Figure size 432x288 with 1 Axes>"
      ]
     },
     "metadata": {
      "needs_background": "light"
     },
     "output_type": "display_data"
    }
   ],
   "source": [
    "Kmus,X, Rnk = runKMeans(2,\"encoded_smartphone_data.csv\")\n",
    "plotCurrent(X,Rnk,Kmus)"
   ]
  },
  {
   "cell_type": "code",
   "execution_count": null,
   "metadata": {},
   "outputs": [],
   "source": []
  }
 ],
 "metadata": {
  "kernelspec": {
   "display_name": "Python 3",
   "language": "python",
   "name": "python3"
  },
  "language_info": {
   "codemirror_mode": {
    "name": "ipython",
    "version": 3
   },
   "file_extension": ".py",
   "mimetype": "text/x-python",
   "name": "python",
   "nbconvert_exporter": "python",
   "pygments_lexer": "ipython3",
   "version": "3.7.6"
  }
 },
 "nbformat": 4,
 "nbformat_minor": 4
}
