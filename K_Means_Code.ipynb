{
 "cells": [
  {
   "cell_type": "code",
   "execution_count": 1,
   "metadata": {},
   "outputs": [],
   "source": [
    "import numpy as np\n",
    "import matplotlib\n",
    "import matplotlib.pyplot as plt\n",
    "%matplotlib inline"
   ]
  },
  {
   "cell_type": "code",
   "execution_count": 2,
   "metadata": {},
   "outputs": [],
   "source": [
    "def plotCurrent(X, Rnk, Kmus):\n",
    "    N, D = np.shape(X)\n",
    "    K = np.shape(Kmus)[0]\n",
    "\n",
    "    InitColorMat = np.matrix([[1, 0, 0], \n",
    "                              [0, 1, 0],   \n",
    "                              [0, 0, 1],\n",
    "                              [0, 0, 0],\n",
    "                              [1, 1, 0], \n",
    "                              [1, 0, 1], \n",
    "                              [0, 1, 1]])\n",
    "\n",
    "    KColorMat = InitColorMat[0:K]\n",
    "    colorVec = Rnk.dot(KColorMat)\n",
    "    muColorVec = np.eye(K).dot(KColorMat)\n",
    "\n",
    "    plt.scatter(X[:,0], X[:,1], edgecolors=colorVec, marker='o', facecolors='none', alpha=0.3)\n",
    "    plt.scatter(Kmus[:,0], Kmus[:,1], c=muColorVec, marker='D', s=50);"
   ]
  },
  {
   "cell_type": "code",
   "execution_count": 3,
   "metadata": {},
   "outputs": [],
   "source": [
    "def calcSqDistances(X, Kmus):\n",
    "    sqDmat = []\n",
    "    for mean in Kmus:\n",
    "        norm_array = []\n",
    "        for point in X:\n",
    "            norm_array.append(np.linalg.norm(point - mean))\n",
    "        sqDmat.append(norm_array)\n",
    "    return np.array(sqDmat).T"
   ]
  },
  {
   "cell_type": "code",
   "execution_count": 4,
   "metadata": {},
   "outputs": [],
   "source": [
    "def determineRnk(sqDmat):\n",
    "    mean_rank = []\n",
    "    for i in sqDmat:\n",
    "        cluster_val = []\n",
    "        for j in i: \n",
    "            closest = i.min()\n",
    "            if j == closest:\n",
    "                cluster_val.append(1)\n",
    "            else: \n",
    "                cluster_val.append(0)\n",
    "        mean_rank.append(cluster_val)\n",
    "    return np.array(mean_rank)"
   ]
  },
  {
   "cell_type": "code",
   "execution_count": 5,
   "metadata": {},
   "outputs": [],
   "source": [
    "def recalcMus(X, Rnk):\n",
    "    # Fill this\n",
    "    N = np.shape(X)[0]\n",
    "    k = np.shape(Rnk)[1]\n",
    "    \n",
    "    Kmus = np.zeros((k,2))\n",
    "    \n",
    "    for i in range(k):\n",
    "        cluster_sum = 0\n",
    "        count = 0\n",
    "        \n",
    "        for j in range(N):\n",
    "            cluster_sum += Rnk[j][i]*X[j]\n",
    "            count += Rnk[j][i]\n",
    "        Kmus[i] = cluster_sum/count\n",
    "    return Kmus"
   ]
  },
  {
   "cell_type": "code",
   "execution_count": 6,
   "metadata": {},
   "outputs": [],
   "source": [
    "def runKMeans(K, fileString):\n",
    "    # Load data file specified by fileStringfrom Bishop book\n",
    "    X = np.loadtxt(fileString) #might have to change this to pd.read_csv() or modify to include the cleaned dataset\n",
    "\n",
    "    # Determine and store data set information\n",
    "    N = np.shape(X)[0]\n",
    "    D = np.shape(X)[1]\n",
    "\n",
    "    # Allocate space for the K mu vectors\n",
    "    Kmus = np.zeros((K, D))\n",
    "\n",
    "    # Initialize cluster centers by randomly picking points from the data\n",
    "    rndinds = np.random.permutation(N)\n",
    "    Kmus = X[rndinds[:K]];\n",
    "\n",
    "    # Specify the maximum number of iterations to allow\n",
    "    maxiters = 1000;\n",
    "\n",
    "    for iter in range(maxiters):\n",
    "        # Assign each data vector to closest mu vector as per Bishop (9.2)\n",
    "        # Do this by first calculating a squared distance matrix where the n,k entry\n",
    "        # contains the squared distance from the nth data vector to the kth mu vector\n",
    "\n",
    "        # sqDmat will be an N-by-K matrix with the n,k entry as specfied above\n",
    "        sqDmat = calcSqDistances(X, Kmus);\n",
    "\n",
    "        # given the matrix of squared distances, determine the closest cluster\n",
    "        # center for each data vector \n",
    "\n",
    "        # R is the \"responsibility\" matrix\n",
    "        # R will be an N-by-K matrix of binary values whose n,k entry is set as \n",
    "        # per Bishop (9.2)\n",
    "        # Specifically, the n,k entry is 1 if point n is closest to cluster k,\n",
    "        # and is 0 otherwise\n",
    "        Rnk = determineRnk(sqDmat)\n",
    "\n",
    "        KmusOld = Kmus\n",
    "        plotCurrent(X, Rnk, Kmus)\n",
    "        plt.show()\n",
    "\n",
    "        # Recalculate mu values based on cluster assignments as per Bishop (9.4)\n",
    "        Kmus = recalcMus(X, Rnk)\n",
    "\n",
    "        # If old cluster means are relatively close to the new cluster means,then break.\n",
    "        if sum(abs(KmusOld.flatten() - Kmus.flatten())) < 1e-6:\n",
    "            break\n",
    "\n",
    "    plotCurrent(X,Rnk,Kmus)"
   ]
  },
  {
   "cell_type": "code",
   "execution_count": null,
   "metadata": {},
   "outputs": [],
   "source": []
  }
 ],
 "metadata": {
  "kernelspec": {
   "display_name": "Python 3",
   "language": "python",
   "name": "python3"
  },
  "language_info": {
   "codemirror_mode": {
    "name": "ipython",
    "version": 3
   },
   "file_extension": ".py",
   "mimetype": "text/x-python",
   "name": "python",
   "nbconvert_exporter": "python",
   "pygments_lexer": "ipython3",
   "version": "3.7.6"
  }
 },
 "nbformat": 4,
 "nbformat_minor": 4
}
